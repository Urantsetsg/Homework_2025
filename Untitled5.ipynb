{
  "nbformat": 4,
  "nbformat_minor": 0,
  "metadata": {
    "colab": {
      "provenance": [],
      "authorship_tag": "ABX9TyP0TLvH+XCKWwC8VgdsUFF9",
      "include_colab_link": true
    },
    "kernelspec": {
      "name": "python3",
      "display_name": "Python 3"
    },
    "language_info": {
      "name": "python"
    }
  },
  "cells": [
    {
      "cell_type": "markdown",
      "metadata": {
        "id": "view-in-github",
        "colab_type": "text"
      },
      "source": [
        "<a href=\"https://colab.research.google.com/github/Urantsetsg/Homework_2025/blob/main/Untitled5.ipynb\" target=\"_parent\"><img src=\"https://colab.research.google.com/assets/colab-badge.svg\" alt=\"Open In Colab\"/></a>"
      ]
    },
    {
      "cell_type": "markdown",
      "source": [
        "<font color = 'red'>셀 005-1\n",
        "### <font color = 'green'>주석처리 예시\n",
        "### <font color = 'green'>만든 날짜: 2024.12.30\n",
        "\n",
        "a = <font color = 'green'>1        # a에 1을 할당</font>\n",
        "\n",
        "b = <font color = 'green'>5        # b에 5를 할당\n",
        "\n",
        "print (a+b)  <font color = 'green'># a+b의 값을 출력\n",
        "\n",
        "<font color = 'red'>셀 005-2 </font>\n",
        "\n",
        "comment = <font color ='pink'> 'Result ='\n",
        "# <font color = 'green'>삼중 따옴표로 특정 영역 주석 처리 예시\n",
        "<font color = 'pink'>\"\"\"a = 1\n",
        "\n",
        "<font color = 'pink'>b = 100\n",
        "\n",
        "<font color = 'pink'>print(a+b)\"\"\"\n",
        "\n",
        "a = <font color = 'green'>5\n",
        "\n",
        "b = <font color = 'green'>50\n",
        "\n",
        "print(comment, a+b)"
      ],
      "metadata": {
        "id": "_PFhOBOAIs43"
      }
    }
  ]
}