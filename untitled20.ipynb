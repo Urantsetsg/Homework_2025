{
  "nbformat": 4,
  "nbformat_minor": 0,
  "metadata": {
    "colab": {
      "provenance": [],
      "authorship_tag": "ABX9TyPLrw7EWuTME0YbdXsK4CCW",
      "include_colab_link": true
    },
    "kernelspec": {
      "name": "python3",
      "display_name": "Python 3"
    },
    "language_info": {
      "name": "python"
    }
  },
  "cells": [
    {
      "cell_type": "markdown",
      "metadata": {
        "id": "view-in-github",
        "colab_type": "text"
      },
      "source": [
        "<a href=\"https://colab.research.google.com/github/Urantsetsg/Homework_2025/blob/main/untitled20.ipynb\" target=\"_parent\"><img src=\"https://colab.research.google.com/assets/colab-badge.svg\" alt=\"Open In Colab\"/></a>"
      ]
    },
    {
      "cell_type": "code",
      "execution_count": null,
      "metadata": {
        "colab": {
          "base_uri": "https://localhost:8080/"
        },
        "id": "8sBeZIo22ykZ",
        "outputId": "8f11472b-8c37-4773-e5ef-2d2c07f3de41"
      },
      "outputs": [
        {
          "output_type": "stream",
          "name": "stdout",
          "text": [
            "False\n",
            "True\n",
            "True\n",
            "False\n",
            "True\n",
            "False\n"
          ]
        }
      ],
      "source": [
        "x = 1; y = 2\n",
        "strData1 = 'Hello'; strData2 = 'python'\n",
        "flag1 = x == y\n",
        "flag2 = x < y\n",
        "flag3 = strData1 != strData2\n",
        "flag4 = strData1 > strData2\n",
        "\n",
        "print(flag1 and flag2)\n",
        "print(flag2 and flag3)\n",
        "print(flag3 or flag4)\n",
        "print(flag1 or flag4)\n",
        "print(not flag1)\n",
        "print(not flag2)"
      ]
    },
    {
      "cell_type": "code",
      "source": [
        "bit1 = 0x61; bit2 = 0x62\n",
        "print(hex(bit1 & bit2))\n",
        "print(hex(bit1 | bit2))\n",
        "print(hex(bit1 ^ bit2))\n",
        "print(hex(bit1 >> 1))\n",
        "print(hex(bit1 << 2))"
      ],
      "metadata": {
        "colab": {
          "base_uri": "https://localhost:8080/"
        },
        "id": "-yZCvQg15RLP",
        "outputId": "36598bf6-23f9-44ac-a9d1-ce3836e58308"
      },
      "execution_count": null,
      "outputs": [
        {
          "output_type": "stream",
          "name": "stdout",
          "text": [
            "0x60\n",
            "0x63\n",
            "0x3\n",
            "0x30\n",
            "0x184\n"
          ]
        }
      ]
    },
    {
      "cell_type": "code",
      "source": [
        "byte1 = 0x6b\n",
        "\n",
        "#하위 4비트 추출\n",
        "lower_4bit = byte1 & 0x0f\n",
        "\n",
        "#상위 4비트 추출\n",
        "upper_4bit = (byte1 >> 4) & 0x0f\n",
        "\n",
        "print(hex(lower_4bit))\n",
        "print(hex(upper_4bit))"
      ],
      "metadata": {
        "colab": {
          "base_uri": "https://localhost:8080/"
        },
        "id": "i_UB3qJL6Fw6",
        "outputId": "25ec79df-770c-4403-a13c-887322ca5880"
      },
      "execution_count": null,
      "outputs": [
        {
          "output_type": "stream",
          "name": "stdout",
          "text": [
            "0xb\n",
            "0x6\n"
          ]
        }
      ]
    },
    {
      "cell_type": "code",
      "source": [],
      "metadata": {
        "id": "tKH37grG7Asf"
      },
      "execution_count": null,
      "outputs": []
    }
  ]
}