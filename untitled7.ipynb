{
  "nbformat": 4,
  "nbformat_minor": 0,
  "metadata": {
    "colab": {
      "provenance": [],
      "authorship_tag": "ABX9TyMyP9WqO99wuDx3FBG5JXyt",
      "include_colab_link": true
    },
    "kernelspec": {
      "name": "python3",
      "display_name": "Python 3"
    },
    "language_info": {
      "name": "python"
    }
  },
  "cells": [
    {
      "cell_type": "markdown",
      "metadata": {
        "id": "view-in-github",
        "colab_type": "text"
      },
      "source": [
        "<a href=\"https://colab.research.google.com/github/Urantsetsg/Homework_2025/blob/main/untitled7.ipynb\" target=\"_parent\"><img src=\"https://colab.research.google.com/assets/colab-badge.svg\" alt=\"Open In Colab\"/></a>"
      ]
    },
    {
      "cell_type": "markdown",
      "source": [
        "print('안녕하세요 파이썬')\n",
        "hello = '안녕하세요 파이썬!'\n",
        "print(hello)\n",
        "intData1 = 1\n",
        "intData2 = 2\n",
        "print(intData1 + intData2)\n",
        "name = '홍길동'\n",
        "phone = 010-1234-5678\n",
        "print('이름:', name, '핸드폰:', phone\n",
        "print('#', end='')\n",
        "print('#'*5)\n",
        "print(name, phone, sep=';')\n",
        "strData = 'I love python!'\n",
        "print(len(strData))\n",
        "listData = [1, 2, 3, 4, 5]\n",
        "print (len(list))\n",
        "tupleData = ('a', 'bc', 'def')\n",
        "print(len(tupleData))\n",
        "setData = {cup', 'shoes', 'shirts', 'pants'}\n",
        "print (len(setData))\n",
        "distData = {1:True, 0:False}\n",
        "print(len(distData))"
      ],
      "metadata": {
        "id": "pzfi3GSiMXHr"
      }
    }
  ]
}