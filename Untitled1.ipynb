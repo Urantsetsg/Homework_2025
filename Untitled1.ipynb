{
  "nbformat": 4,
  "nbformat_minor": 0,
  "metadata": {
    "colab": {
      "provenance": [],
      "authorship_tag": "ABX9TyOIREsnhit2yy5NxmVE+e63",
      "include_colab_link": true
    },
    "kernelspec": {
      "name": "python3",
      "display_name": "Python 3"
    },
    "language_info": {
      "name": "python"
    }
  },
  "cells": [
    {
      "cell_type": "markdown",
      "metadata": {
        "id": "view-in-github",
        "colab_type": "text"
      },
      "source": [
        "<a href=\"https://colab.research.google.com/github/Urantsetsg/Homework_2025/blob/main/Untitled1.ipynb\" target=\"_parent\"><img src=\"https://colab.research.google.com/assets/colab-badge.svg\" alt=\"Open In Colab\"/></a>"
      ]
    },
    {
      "cell_type": "markdown",
      "source": [
        "안녕하세요? 저는 멀티미디어공과를 전공하고 있는 우란체체그리고 합니다. 저는 몽골에서 왔습니다. 멀티미디어공학과 전공은 디자인 3D 모델링 등 여러 가지를 배우는 학과입니다. [hannam multimedia](multi.hannam.ac.kr/main/).\n",
        "저는 창의적인 콘텐츠를 만들고 싶어서 이 수업을 선택했습니다. 앞으로 저는 디지털 콘텐츠 크리에이터가 되고 싶습니다. 외국인이라서 100% 이해하지 못했지만 최성을 다 하겠습니다. 잘 도와주세요 교수님."
      ],
      "metadata": {
        "id": "SBN9et5hdTNE"
      }
    }
  ]
}