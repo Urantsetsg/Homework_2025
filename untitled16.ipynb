{
  "nbformat": 4,
  "nbformat_minor": 0,
  "metadata": {
    "colab": {
      "provenance": [],
      "authorship_tag": "ABX9TyMyO/RR+WaJVf62TJdug/AY",
      "include_colab_link": true
    },
    "kernelspec": {
      "name": "python3",
      "display_name": "Python 3"
    },
    "language_info": {
      "name": "python"
    }
  },
  "cells": [
    {
      "cell_type": "markdown",
      "metadata": {
        "id": "view-in-github",
        "colab_type": "text"
      },
      "source": [
        "<a href=\"https://colab.research.google.com/github/Urantsetsg/Homework_2025/blob/main/untitled16.ipynb\" target=\"_parent\"><img src=\"https://colab.research.google.com/assets/colab-badge.svg\" alt=\"Open In Colab\"/></a>"
      ]
    },
    {
      "cell_type": "code",
      "execution_count": null,
      "metadata": {
        "colab": {
          "base_uri": "https://localhost:8080/",
          "height": 108
        },
        "id": "Ekrys6zn0Wjl",
        "outputId": "069600fa-325b-4078-fd0d-8153348ec825"
      },
      "outputs": [
        {
          "output_type": "error",
          "ename": "SyntaxError",
          "evalue": "invalid syntax (ipython-input-3177816211.py, line 2)",
          "traceback": [
            "\u001b[0;36m  File \u001b[0;32m\"/tmp/ipython-input-3177816211.py\"\u001b[0;36m, line \u001b[0;32m2\u001b[0m\n\u001b[0;31m    조건이 참일 때 반복 실행 코드\u001b[0m\n\u001b[0m        ^\u001b[0m\n\u001b[0;31mSyntaxError\u001b[0m\u001b[0;31m:\u001b[0m invalid syntax\n"
          ]
        }
      ],
      "source": [
        "while 조건:\n",
        "  조건이 참일 때 반복 실행 코드\n",
        "  ...\n",
        "  continue              #while문 처음으로 이동하여 반복 실행 코드 계속\n",
        "  ...\n",
        "  break                 #while문 탄출"
      ]
    },
    {
      "cell_type": "code",
      "source": [
        "x = 0\n",
        "while x < 10:\n",
        "  x = x + 1\n",
        "  if x < 3:\n",
        "    continue\n",
        "\n",
        "  print(x)\n",
        "  if x > 4:\n",
        "    break"
      ],
      "metadata": {
        "colab": {
          "base_uri": "https://localhost:8080/"
        },
        "id": "TGOU-bDS1vta",
        "outputId": "12c26ab9-5b0b-4faf-ed54-1451ad808091"
      },
      "execution_count": null,
      "outputs": [
        {
          "output_type": "stream",
          "name": "stdout",
          "text": [
            "3\n",
            "4\n",
            "5\n"
          ]
        }
      ]
    },
    {
      "cell_type": "code",
      "source": [
        "n = 1\n",
        "total = 0\n",
        "while True:\n",
        "  total + n\n",
        "  if total > 100000:\n",
        "    print('1+2+...+n 값이 10만 보다 커지게 되는 n:',n)\n",
        "    print('이 때 총합은', total)\n",
        "    break\n",
        "  n = n + 1"
      ],
      "metadata": {
        "id": "q2lWtB5F2qGZ"
      },
      "execution_count": null,
      "outputs": []
    },
    {
      "cell_type": "code",
      "source": [
        "for sport in ['축구', '야구', '배구', '농구']:\n",
        "  if sport == '축구':\n",
        "    pass\n",
        "\n",
        "  if sport == '야구':\n",
        "    pass"
      ],
      "metadata": {
        "id": "GQLw0d4T6jWV"
      },
      "execution_count": null,
      "outputs": []
    },
    {
      "cell_type": "code",
      "source": [
        "def getImageLink(url):\n",
        "  pass"
      ],
      "metadata": {
        "id": "TQy82rg37G5q"
      },
      "execution_count": null,
      "outputs": []
    }
  ]
}