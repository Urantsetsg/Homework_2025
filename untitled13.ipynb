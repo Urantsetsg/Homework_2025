{
  "nbformat": 4,
  "nbformat_minor": 0,
  "metadata": {
    "colab": {
      "provenance": [],
      "authorship_tag": "ABX9TyN92XQro+Dfg+tjDS/VOjyU",
      "include_colab_link": true
    },
    "kernelspec": {
      "name": "python3",
      "display_name": "Python 3"
    },
    "language_info": {
      "name": "python"
    }
  },
  "cells": [
    {
      "cell_type": "markdown",
      "metadata": {
        "id": "view-in-github",
        "colab_type": "text"
      },
      "source": [
        "<a href=\"https://colab.research.google.com/github/Urantsetsg/Homework_2025/blob/main/untitled13.ipynb\" target=\"_parent\"><img src=\"https://colab.research.google.com/assets/colab-badge.svg\" alt=\"Open In Colab\"/></a>"
      ]
    },
    {
      "cell_type": "code",
      "execution_count": null,
      "metadata": {
        "colab": {
          "base_uri": "https://localhost:8080/",
          "height": 108
        },
        "id": "GsSASAT_RTRz",
        "outputId": "427b5c57-b5d1-438b-818e-5fdfdefe345c"
      },
      "outputs": [
        {
          "output_type": "error",
          "ename": "SyntaxError",
          "evalue": "invalid syntax (ipython-input-892725046.py, line 2)",
          "traceback": [
            "\u001b[0;36m  File \u001b[0;32m\"/tmp/ipython-input-892725046.py\"\u001b[0;36m, line \u001b[0;32m2\u001b[0m\n\u001b[0;31m    반복 실행 코드\u001b[0m\n\u001b[0m       ^\u001b[0m\n\u001b[0;31mSyntaxError\u001b[0m\u001b[0;31m:\u001b[0m invalid syntax\n"
          ]
        }
      ],
      "source": [
        "for 변수 in 범위:\n",
        "  반복 실행 코드\n",
        "else:\n",
        "  for문의 반복 실행 코드가 빠짐없이 실행되었을 경우 실행할 코드"
      ]
    },
    {
      "cell_type": "code",
      "source": [
        "for x in [1, 2, 3]:\n",
        "  print(x)\n",
        "else:\n",
        "  print('Perfect!')"
      ],
      "metadata": {
        "colab": {
          "base_uri": "https://localhost:8080/"
        },
        "id": "m5joL7UvSb9Y",
        "outputId": "f7bcc04e-112f-4a72-a21f-6fffba5fcbef"
      },
      "execution_count": null,
      "outputs": [
        {
          "output_type": "stream",
          "name": "stdout",
          "text": [
            "1\n",
            "2\n",
            "3\n",
            "Perfect!\n"
          ]
        }
      ]
    },
    {
      "cell_type": "code",
      "source": [
        "for x in [1, 2, 3]:\n",
        "  print(x)\n",
        "  if x > 1:\n",
        "    break\n",
        "else:\n",
        "  print('Perfect!')"
      ],
      "metadata": {
        "colab": {
          "base_uri": "https://localhost:8080/"
        },
        "id": "YtpjOntaSuVY",
        "outputId": "358d90e0-7eaf-428c-fc84-e77fc80b45a4"
      },
      "execution_count": null,
      "outputs": [
        {
          "output_type": "stream",
          "name": "stdout",
          "text": [
            "1\n",
            "2\n"
          ]
        }
      ]
    },
    {
      "cell_type": "code",
      "source": [
        "while 조건:\n",
        "  조건 참일 때 반복 실행 코드\n",
        "  ...\n",
        "  continue             #while문 처음으로 이동하여 반복 실행 코드 계속\n",
        "  ...\n",
        "  break                #while문 탈출"
      ],
      "metadata": {
        "colab": {
          "base_uri": "https://localhost:8080/",
          "height": 108
        },
        "id": "Z1_aPb_2TMAY",
        "outputId": "10c49b2c-4be9-4f7d-e903-b66662bff51b"
      },
      "execution_count": null,
      "outputs": [
        {
          "output_type": "error",
          "ename": "SyntaxError",
          "evalue": "invalid syntax (ipython-input-2676732947.py, line 2)",
          "traceback": [
            "\u001b[0;36m  File \u001b[0;32m\"/tmp/ipython-input-2676732947.py\"\u001b[0;36m, line \u001b[0;32m2\u001b[0m\n\u001b[0;31m    조건 참일 때 반복 실행 코드\u001b[0m\n\u001b[0m       ^\u001b[0m\n\u001b[0;31mSyntaxError\u001b[0m\u001b[0;31m:\u001b[0m invalid syntax\n"
          ]
        }
      ]
    },
    {
      "cell_type": "code",
      "source": [
        "x = 0\n",
        "while x < 10:\n",
        "  x = x + 1\n",
        "  if x < 3:\n",
        "    continue\n",
        "\n",
        "    print(x)\n",
        "    if x > 4:\n",
        "      break"
      ],
      "metadata": {
        "id": "-qXTVa-1UIvX"
      },
      "execution_count": null,
      "outputs": []
    },
    {
      "cell_type": "code",
      "source": [
        "n = 1\n",
        "total = 0\n",
        "while True:\n",
        "  total = total + n\n",
        "  if total > 100000:\n",
        "    print('1+2+...+n 값이 10만 보다 커지게 되는 n:', n)\n",
        "    break\n",
        "  n = n + 1"
      ],
      "metadata": {
        "colab": {
          "base_uri": "https://localhost:8080/"
        },
        "id": "gRyZWutsUlTp",
        "outputId": "56ea20e4-eeec-4413-c1ff-3a8b664095d5"
      },
      "execution_count": null,
      "outputs": [
        {
          "output_type": "stream",
          "name": "stdout",
          "text": [
            "1+2+...+n 값이 10만 보다 커지게 되는 n: 447\n"
          ]
        }
      ]
    },
    {
      "cell_type": "code",
      "source": [
        "for sport in ['축구', '야구', '배구', '농구']:\n",
        "  if sport == '축구':\n",
        "    pass\n",
        "\n",
        "  if sport == '야구':\n",
        "    pass"
      ],
      "metadata": {
        "id": "c0bj7-x1VkRJ"
      },
      "execution_count": null,
      "outputs": []
    },
    {
      "cell_type": "code",
      "source": [
        "def getImageLink(url):\n",
        "  pass"
      ],
      "metadata": {
        "id": "1J2xJA7pWIWY"
      },
      "execution_count": null,
      "outputs": []
    }
  ]
}